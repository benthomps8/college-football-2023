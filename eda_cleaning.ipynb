{
 "cells": [
  {
   "cell_type": "code",
   "execution_count": null,
   "id": "7285e0cf-7c1e-49b9-b39d-5322f5ad59bb",
   "metadata": {},
   "outputs": [],
   "source": [
    "import pandas as pd\n",
    "import numpy as np\n",
    "import matplotlib.pyplot as plt\n",
    "import seaborn as sns"
   ]
  },
  {
   "cell_type": "markdown",
   "id": "6ff8ca0b-39b8-4f51-a947-3e7a578deefb",
   "metadata": {},
   "source": [
    "## EDA"
   ]
  },
  {
   "cell_type": "markdown",
   "id": "45d5e9b7-1941-4521-8f44-3569a5590a33",
   "metadata": {},
   "source": [
    "### Initial exploration\n",
    "\n",
    "When looking at data for the first time, try to get a high level of overview of things"
   ]
  },
  {
   "cell_type": "code",
   "execution_count": null,
   "id": "369f2091-f0e5-4f44-9e68-63ddfde44390",
   "metadata": {},
   "outputs": [],
   "source": [
    "cars = pd.read_csv(\"./data/cardata.csv\")\n",
    "cars.head()"
   ]
  },
  {
   "cell_type": "code",
   "execution_count": null,
   "id": "84be6f67-39bf-4111-91a5-9670387a0d0e",
   "metadata": {},
   "outputs": [],
   "source": [
    "# Look at the dimensionality of data\n",
    "cars.shape"
   ]
  },
  {
   "cell_type": "code",
   "execution_count": null,
   "id": "14c4a638-1747-421b-8c2c-0bb3b2db2950",
   "metadata": {},
   "outputs": [],
   "source": [
    "# Look for NAs\n",
    "np.sum(cars.isna())"
   ]
  },
  {
   "cell_type": "code",
   "execution_count": null,
   "id": "002d864c-b480-4534-898f-2259e760ec6d",
   "metadata": {},
   "outputs": [],
   "source": [
    "# Check the data types of columns\n",
    "cars.dtypes"
   ]
  },
  {
   "cell_type": "markdown",
   "id": "a651dedc-8872-40ce-8e30-c299d4b18b1b",
   "metadata": {},
   "source": [
    "Determine how many records we have associated with each car make. "
   ]
  },
  {
   "cell_type": "code",
   "execution_count": null,
   "id": "a772aa23-75cd-4fab-bc10-fc609be1cea8",
   "metadata": {},
   "outputs": [],
   "source": [
    "car_counts = cars[\"Make\"].value_counts()\n",
    "car_counts"
   ]
  },
  {
   "cell_type": "markdown",
   "id": "ad40620e-e0fc-4761-b7aa-0741aa97f376",
   "metadata": {},
   "source": [
    "Visualize this"
   ]
  },
  {
   "cell_type": "code",
   "execution_count": null,
   "id": "0f0cdf54-1241-46b6-a919-37bffbe46da7",
   "metadata": {},
   "outputs": [],
   "source": [
    "sns.barplot(x = car_counts.index, y = cars[\"Make\"].value_counts(), color = \"black\");"
   ]
  },
  {
   "cell_type": "markdown",
   "id": "5b2b7f0c-7ccd-4b25-9bf7-7b52d41cc9e2",
   "metadata": {},
   "source": [
    "Constrain the subset of values visualized"
   ]
  },
  {
   "cell_type": "code",
   "execution_count": null,
   "id": "b9dd7e7a-269a-457d-a66a-8431f2b6ca6c",
   "metadata": {},
   "outputs": [],
   "source": [
    "sns.barplot(x = car_counts.index[0:20], y = cars[\"Make\"].value_counts()[0:20], color = \"black\")\n",
    "# Put the tick labels at an angle\n",
    "plt.xticks(rotation=70);"
   ]
  },
  {
   "cell_type": "code",
   "execution_count": null,
   "id": "9d853e39-5d23-4c8b-91b8-691b67ef3af9",
   "metadata": {},
   "outputs": [],
   "source": [
    "sns.barplot(y = car_counts.index[0:20], x = cars[\"Make\"].value_counts()[0:20], color = \"black\")"
   ]
  },
  {
   "cell_type": "markdown",
   "id": "a314c353-2df4-4e97-8475-1fece1a03450",
   "metadata": {},
   "source": [
    "#### Exploring associations"
   ]
  },
  {
   "cell_type": "markdown",
   "id": "4e9fcf05-2077-4b4f-adcf-8df83504e176",
   "metadata": {},
   "source": [
    "Now let's look at the distributions of our numeric variables, as well as any associations between them."
   ]
  },
  {
   "cell_type": "code",
   "execution_count": null,
   "id": "9f28b05a-066c-4677-ada0-03eac7eebfec",
   "metadata": {},
   "outputs": [],
   "source": [
    "# Drop variables we're uninterested in\n",
    "cars_sub = cars.drop([\"Number of Doors\", \"Engine Cylinders\", \"Year\"], axis = 1)\n",
    "cars_sub.columns"
   ]
  },
  {
   "cell_type": "markdown",
   "id": "698ae542-6279-42c2-8f91-1496bd434b49",
   "metadata": {},
   "source": [
    "Now let's look at the distributions of our numeric variables, as well as any associations between them."
   ]
  },
  {
   "cell_type": "code",
   "execution_count": null,
   "id": "fe653fdb-b289-4aa4-b0b6-e79aab436e24",
   "metadata": {},
   "outputs": [],
   "source": [
    "# Select only numeric columns in the data\n",
    "cars_sub.select_dtypes(include=np.number)"
   ]
  },
  {
   "cell_type": "markdown",
   "id": "95528be8-acea-497b-ade3-e631434c31e8",
   "metadata": {},
   "source": [
    "Use bulk visualizations for a birds-eye view of the data"
   ]
  },
  {
   "cell_type": "code",
   "execution_count": null,
   "id": "13352537-bcf0-42a0-b40f-5a64e745ac49",
   "metadata": {},
   "outputs": [],
   "source": [
    "# Show pairwise association between each numeric variable\n",
    "sns.pairplot(cars_sub.select_dtypes(include=np.number), corner = True)"
   ]
  },
  {
   "cell_type": "markdown",
   "id": "7884958a-f534-4300-a916-09674536a83a",
   "metadata": {},
   "source": [
    "**What are some things that you notice?**"
   ]
  },
  {
   "cell_type": "code",
   "execution_count": null,
   "id": "80f1d52e-9c6e-46aa-b0ad-9f4aa01cfb0e",
   "metadata": {},
   "outputs": [],
   "source": [
    "sns.boxplot(cars[\"highway MPG\"])\n",
    "plt.ylabel(\"Highway MPG\")"
   ]
  },
  {
   "cell_type": "code",
   "execution_count": null,
   "id": "2d81fa18-8e59-44b5-839c-774d8264c31c",
   "metadata": {},
   "outputs": [],
   "source": [
    "cars[cars[\"highway MPG\"] == np.max(cars[\"highway MPG\"])]"
   ]
  },
  {
   "cell_type": "markdown",
   "id": "b1fd19e3-c3ed-4682-9752-2b13546a6e38",
   "metadata": {},
   "source": [
    "Also take a closer look at a few of the distributions"
   ]
  },
  {
   "cell_type": "code",
   "execution_count": null,
   "id": "95b4cf79-12a0-4826-8969-5a67e6a4e42d",
   "metadata": {},
   "outputs": [],
   "source": [
    "sns.histplot(cars[\"MSRP\"])"
   ]
  },
  {
   "cell_type": "code",
   "execution_count": null,
   "id": "a1cf41fa-0216-457f-b131-0014389133bf",
   "metadata": {},
   "outputs": [],
   "source": [
    "sns.boxplot(cars[\"MSRP\"])"
   ]
  },
  {
   "cell_type": "markdown",
   "id": "db1810cf-8a86-4806-8708-2020a853f474",
   "metadata": {},
   "source": [
    "**What could we do about this**?"
   ]
  },
  {
   "cell_type": "code",
   "execution_count": null,
   "id": "81d0258d-0e51-44d5-96a9-59e054caaed4",
   "metadata": {},
   "outputs": [],
   "source": [
    "sns.histplot(np.log(cars[\"MSRP\"]))"
   ]
  },
  {
   "cell_type": "code",
   "execution_count": null,
   "id": "2780c332-12e3-498c-ac75-9936d4df03fd",
   "metadata": {},
   "outputs": [],
   "source": [
    "cars[\"MSRP\"].sort_values(ascending = True)"
   ]
  },
  {
   "cell_type": "markdown",
   "id": "8a593529-6038-44a0-be95-8cf87a558bf4",
   "metadata": {},
   "source": [
    "A little strange but let's keep exploring the data"
   ]
  },
  {
   "cell_type": "code",
   "execution_count": null,
   "id": "be277c2e-6703-4d2c-a2ce-8b821a8aad49",
   "metadata": {},
   "outputs": [],
   "source": [
    "sns.relplot(data = cars, x = \"Engine HP\", y = \"MSRP\");"
   ]
  },
  {
   "cell_type": "markdown",
   "id": "4364d677-bd8a-4544-96ef-0938424812a2",
   "metadata": {},
   "source": [
    "**What do you observe in this relationship?**"
   ]
  },
  {
   "cell_type": "code",
   "execution_count": null,
   "id": "c75465ba-4414-4070-8832-c6e9498361f4",
   "metadata": {},
   "outputs": [],
   "source": [
    "sns.relplot(x = cars[\"Engine HP\"], y = np.log(cars[\"MSRP\"]))\n",
    "plt.ylabel(\"log MSRP\");"
   ]
  },
  {
   "cell_type": "markdown",
   "id": "3fddf8da-ee4b-47a5-98be-86ab68b74de1",
   "metadata": {},
   "source": [
    "Try to figure out what's going on with the weird grouping of data"
   ]
  },
  {
   "cell_type": "code",
   "execution_count": null,
   "id": "e3bb9e1c-8224-4d6c-8163-fa396f1d5557",
   "metadata": {},
   "outputs": [],
   "source": [
    "cars[cars[\"MSRP\"] < 9000].describe()"
   ]
  },
  {
   "cell_type": "markdown",
   "id": "b1aa0bd3-6dd5-4d80-9b2a-5ef3bf5ac12f",
   "metadata": {},
   "source": [
    "**Which associated variable stands out as potentially unusual?** (Use the summary statistics)"
   ]
  },
  {
   "cell_type": "code",
   "execution_count": null,
   "id": "4a520111-8fec-4d82-b04b-1ee23bd84759",
   "metadata": {},
   "outputs": [],
   "source": [
    "sns.displot(x = np.log(cars[\"MSRP\"]), y = cars[\"Year\"], kind = \"kde\")\n",
    "plt.xlabel(\"log MSRP\");"
   ]
  },
  {
   "cell_type": "markdown",
   "id": "6b0c4360-3cf1-4cbd-a9b3-37fcafdbd1e1",
   "metadata": {},
   "source": [
    "**What do you observe in this plot**?"
   ]
  },
  {
   "cell_type": "markdown",
   "id": "d1629521-9cb6-41df-9233-abd006fe40ad",
   "metadata": {},
   "source": [
    "## Working with datetimes"
   ]
  },
  {
   "cell_type": "markdown",
   "id": "e0fd45d9-af56-49b7-8fcb-47914e7a2359",
   "metadata": {},
   "source": [
    "Read in data containing all police dispatches in Eugene from a certain timeframe"
   ]
  },
  {
   "cell_type": "code",
   "execution_count": null,
   "id": "831594e5-4f8a-423c-bcbe-02df6f335ca5",
   "metadata": {},
   "outputs": [],
   "source": [
    "# Read in logs of eugene dispatches from January 1st 2022\n",
    "dispatch = pd.read_csv(\"./data/eugene_dispatches_24.csv\")\n",
    "dispatch.head()"
   ]
  },
  {
   "cell_type": "code",
   "execution_count": null,
   "id": "dee3c6af-7a05-481e-afb2-59f44954780e",
   "metadata": {},
   "outputs": [],
   "source": [
    "len(dispatch)"
   ]
  },
  {
   "cell_type": "code",
   "execution_count": null,
   "id": "bb7845c0-88a4-4fa4-b1c7-28221fef850a",
   "metadata": {},
   "outputs": [],
   "source": [
    "dispatch[\"Call Time\"]"
   ]
  },
  {
   "cell_type": "code",
   "execution_count": null,
   "id": "97d5dffc-2aff-4757-ab3e-b24c7e53a169",
   "metadata": {},
   "outputs": [],
   "source": [
    "desc_counts = dispatch[\"Incident Desc\"].value_counts()\n",
    "\n",
    "plt.figure(figsize=(10, 8))\n",
    "sns.barplot(x= desc_counts, y=desc_counts.index, color = \"darkblue\");"
   ]
  },
  {
   "cell_type": "code",
   "execution_count": null,
   "id": "73456e8d-18d4-4464-b511-c11ffc718e65",
   "metadata": {},
   "outputs": [],
   "source": [
    "dispatch[dispatch['Incident Desc'].str.contains(r\".*[tT]heft($|.*)\", \"Theft\", regex = True)]"
   ]
  },
  {
   "cell_type": "code",
   "execution_count": null,
   "id": "54714f8c-4326-4194-8b91-81b7818d3e24",
   "metadata": {},
   "outputs": [],
   "source": [
    "dispatch[\"Incident Desc\"] = dispatch['Incident Desc'].str.replace(r\".*[tT]heft($|.*)\", \"Theft\", regex = True)"
   ]
  },
  {
   "cell_type": "code",
   "execution_count": null,
   "id": "38708662-a242-499e-aa1c-8c70dce65882",
   "metadata": {},
   "outputs": [],
   "source": [
    "desc_counts = dispatch[\"Incident Desc\"].value_counts()\n",
    "\n",
    "plt.figure(figsize=(10, 8))\n",
    "sns.barplot(x= desc_counts, y=desc_counts.index, color = \"darkblue\");"
   ]
  },
  {
   "cell_type": "markdown",
   "id": "92e13816-13e4-4a6b-94f5-f5d49b69d93b",
   "metadata": {},
   "source": [
    "Did any of these crimes happen nearby?"
   ]
  },
  {
   "cell_type": "code",
   "execution_count": null,
   "id": "fc5ff85c-e22d-4a27-a905-1b8e3b1a0f69",
   "metadata": {},
   "outputs": [],
   "source": [
    "dispatch[dispatch[\"Location\"].str.contains(r\"13TH|FRANKLIN|UNIVERSITY\")]"
   ]
  },
  {
   "cell_type": "code",
   "execution_count": null,
   "id": "82615b99-f99e-4d1e-9367-3ae896c34b45",
   "metadata": {},
   "outputs": [],
   "source": [
    "dispatch[\"call_time_dt\"] = pd.to_datetime(dispatch[\"Call Time\"], format = \"%m/%d/%Y %H:%M\")\n",
    "dispatch.head"
   ]
  },
  {
   "cell_type": "code",
   "execution_count": null,
   "id": "e75c8fb7-48f1-4a13-a195-314e1e1441ea",
   "metadata": {},
   "outputs": [],
   "source": [
    "np.min(dispatch[\"call_time_dt\"])\n"
   ]
  },
  {
   "cell_type": "code",
   "execution_count": null,
   "id": "e50d233f-07cc-4e3d-a6f2-19c28ac67119",
   "metadata": {},
   "outputs": [],
   "source": [
    "np.max(dispatch[\"call_time_dt\"])"
   ]
  },
  {
   "cell_type": "code",
   "execution_count": null,
   "id": "5c9425d9-0bed-4e37-a75f-d95dd069aa0d",
   "metadata": {},
   "outputs": [],
   "source": [
    "np.mean(dispatch[\"call_time_dt\"])"
   ]
  },
  {
   "cell_type": "code",
   "execution_count": null,
   "id": "882bd9d1-cf1d-4c10-85f7-c5b94b1d0a7d",
   "metadata": {},
   "outputs": [],
   "source": [
    "dispatch[\"hour\"] = dispatch[\"call_time_dt\"].dt.hour\n",
    "dispatch.head()"
   ]
  },
  {
   "cell_type": "code",
   "execution_count": null,
   "id": "ecf0cb7e-add7-417c-8c97-9046f4566a1f",
   "metadata": {},
   "outputs": [],
   "source": [
    "sns.histplot(dispatch[\"hour\"], bins = np.arange(0,24,1), kde = True);"
   ]
  },
  {
   "cell_type": "code",
   "execution_count": null,
   "id": "82ffa632-8cc2-4f57-833f-b5d301ac2641",
   "metadata": {},
   "outputs": [],
   "source": [
    "sns.histplot(dispatch[\"hour\"], bins = np.arange(0,24,1), kde = True);\n",
    "sns.histplot(dispatch[dispatch[\"Incident Desc\"] == \"Traffic Stop\"][\"hour\"], bins = np.arange(0,24,1), kde = True);"
   ]
  },
  {
   "cell_type": "code",
   "execution_count": null,
   "id": "12c15943-7c76-4620-8d9e-c78cefb24664",
   "metadata": {},
   "outputs": [],
   "source": []
  }
 ],
 "metadata": {
  "kernelspec": {
   "display_name": "Python 3 (ipykernel)",
   "language": "python",
   "name": "python3"
  },
  "language_info": {
   "codemirror_mode": {
    "name": "ipython",
    "version": 3
   },
   "file_extension": ".py",
   "mimetype": "text/x-python",
   "name": "python",
   "nbconvert_exporter": "python",
   "pygments_lexer": "ipython3",
   "version": "3.10.2"
  }
 },
 "nbformat": 4,
 "nbformat_minor": 5
}
